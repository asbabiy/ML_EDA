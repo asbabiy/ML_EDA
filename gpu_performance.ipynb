{
 "cells": [
  {
   "cell_type": "markdown",
   "metadata": {},
   "source": [
    "## Импорты & stuff"
   ]
  },
  {
   "cell_type": "code",
   "execution_count": 1,
   "metadata": {
    "cell_id": "579d29f5ac66497fa32c79f9d578dbe5",
    "deepnote_cell_height": 176.390625,
    "deepnote_cell_type": "code",
    "deepnote_to_be_reexecuted": false,
    "execution_millis": 39579,
    "execution_start": 1647927724713,
    "source_hash": "3c0ba7cf",
    "tags": []
   },
   "outputs": [],
   "source": [
    "# !pip install -q -U pandas sklearn seaborn "
   ]
  },
  {
   "cell_type": "code",
   "execution_count": 2,
   "metadata": {
    "cell_id": "dd3e0919c89a4b4396b0543a0820b6fc",
    "deepnote_cell_height": 387,
    "deepnote_cell_type": "code",
    "deepnote_to_be_reexecuted": false,
    "execution_millis": 25,
    "execution_start": 1647933100996,
    "source_hash": "d67d349",
    "tags": []
   },
   "outputs": [],
   "source": [
    "import random\n",
    "import numpy as np\n",
    "from sklearn.linear_model import LinearRegression\n",
    "from sklearn.linear_model import Ridge, Lasso, ElasticNet\n",
    "from sklearn.metrics import mean_absolute_error as mae, mean_squared_error as mse, r2_score as r2\n",
    "from sklearn.model_selection import GridSearchCV, train_test_split\n",
    "from sklearn.pipeline import make_pipeline\n",
    "from sklearn.preprocessing import PolynomialFeatures\n",
    "from sklearn.preprocessing import StandardScaler\n",
    "import pandas as pd\n",
    "import matplotlib.pyplot as plt\n",
    "import seaborn as sns\n",
    "from scipy import stats\n",
    "\n",
    "import warnings\n",
    "warnings.filterwarnings('ignore')\n",
    "\n",
    "%matplotlib inline"
   ]
  },
  {
   "cell_type": "code",
   "execution_count": 3,
   "metadata": {
    "cell_id": "bc54645013a84039b2c8e4e72f3ea89e",
    "deepnote_cell_height": 99,
    "deepnote_cell_type": "code",
    "deepnote_to_be_reexecuted": false,
    "execution_millis": 0,
    "execution_start": 1647930759241,
    "source_hash": "d2fbed6e",
    "tags": []
   },
   "outputs": [],
   "source": [
    "random.seed(42)\n",
    "np.random.seed(42)"
   ]
  },
  {
   "cell_type": "code",
   "execution_count": 4,
   "metadata": {
    "cell_id": "77c5bfebfea4420c85c840f4534cd2e9",
    "deepnote_cell_height": 99,
    "deepnote_cell_type": "code",
    "deepnote_to_be_reexecuted": false,
    "execution_millis": 3,
    "execution_start": 1647930759511,
    "source_hash": "2d983e5f",
    "tags": []
   },
   "outputs": [],
   "source": [
    "pd.set_option('display.max_columns', None)\n",
    "pd.set_option('display.max_colwidth', None)"
   ]
  },
  {
   "cell_type": "markdown",
   "metadata": {
    "cell_id": "625c52fc5f2b4eb68eca0b94640bb950",
    "deepnote_cell_height": 70,
    "deepnote_cell_type": "markdown",
    "tags": []
   },
   "source": [
    "## EDA"
   ]
  },
  {
   "cell_type": "code",
   "execution_count": 5,
   "metadata": {
    "cell_id": "75895879e797406e8d84d4c1b3449beb",
    "deepnote_cell_height": 81,
    "deepnote_cell_type": "code",
    "deepnote_to_be_reexecuted": false,
    "execution_millis": 207,
    "execution_start": 1647930760179,
    "source_hash": "fa3987e",
    "tags": []
   },
   "outputs": [],
   "source": [
    "data = pd.read_csv(\"data/sgemm_product.csv\")"
   ]
  },
  {
   "cell_type": "code",
   "execution_count": 6,
   "metadata": {
    "cell_id": "a2fce6d3eb774be483b679ee5fab13ac",
    "deepnote_cell_height": 463.703125,
    "deepnote_cell_type": "code",
    "deepnote_output_heights": [
     366.703125
    ],
    "deepnote_to_be_reexecuted": false,
    "execution_millis": 3,
    "execution_start": 1647930760511,
    "source_hash": "ae3db336",
    "tags": []
   },
   "outputs": [
    {
     "data": {
      "text/plain": [
       "MWG            int64\n",
       "NWG            int64\n",
       "KWG            int64\n",
       "MDIMC          int64\n",
       "NDIMC          int64\n",
       "MDIMA          int64\n",
       "NDIMB          int64\n",
       "KWI            int64\n",
       "VWM            int64\n",
       "VWN            int64\n",
       "STRM           int64\n",
       "STRN           int64\n",
       "SA             int64\n",
       "SB             int64\n",
       "Run1 (ms)    float64\n",
       "Run2 (ms)    float64\n",
       "Run3 (ms)    float64\n",
       "Run4 (ms)    float64\n",
       "dtype: object"
      ]
     },
     "execution_count": 6,
     "metadata": {},
     "output_type": "execute_result"
    }
   ],
   "source": [
    "# 10 ordinal переменных и 4 бинарных + 4 целевых, которые можно объединить в одну путем усреднения\n",
    "data.dtypes"
   ]
  },
  {
   "cell_type": "code",
   "execution_count": 7,
   "metadata": {
    "cell_id": "5d9a27c5be794693b143fb1c8b3d26be",
    "deepnote_cell_height": 464.515625,
    "deepnote_cell_type": "code",
    "deepnote_to_be_reexecuted": false,
    "execution_millis": 65,
    "execution_start": 1647930760716,
    "source_hash": "4c6bc482",
    "tags": []
   },
   "outputs": [
    {
     "name": "stdout",
     "output_type": "stream",
     "text": [
      "Column 'MWG' values: [ 16  32  64 128]\n",
      "Column 'NWG' values: [ 16  32  64 128]\n",
      "Column 'KWG' values: [16 32]\n",
      "Column 'MDIMC' values: [ 8 16 32]\n",
      "Column 'NDIMC' values: [ 8 16 32]\n",
      "Column 'MDIMA' values: [ 8 16 32]\n",
      "Column 'NDIMB' values: [ 8 16 32]\n",
      "Column 'KWI' values: [2 8]\n",
      "Column 'VWM' values: [1 2 4 8]\n",
      "Column 'VWN' values: [1 2 4 8]\n",
      "Column 'STRM' values: [0 1]\n",
      "Column 'STRN' values: [0 1]\n",
      "Column 'SA' values: [0 1]\n",
      "Column 'SB' values: [0 1]\n",
      "Column 'Run1 (ms)' values: [115.26  78.13  79.84 ...  26.27  26.4  144.61]\n",
      "Column 'Run2 (ms)' values: [115.87  78.25  80.69 ... 256.13 155.21  17.79]\n",
      "Column 'Run3 (ms)' values: [118.55  79.25  80.76 ... 122.68  17.31  17.78]\n",
      "Column 'Run4 (ms)' values: [115.8   79.19  80.97 ... 157.27 263.33  27.12]\n"
     ]
    }
   ],
   "source": [
    "# Все данные хорошие, никакой особой предобработки и исправлений не надо\n",
    "for i in data.columns:\n",
    "    print(f\"Column '{i}' values: {data.loc[:, i].unique()}\")"
   ]
  },
  {
   "cell_type": "code",
   "execution_count": 8,
   "metadata": {
    "cell_id": "323ab028ab2c465c8b7c1609215383f7",
    "deepnote_cell_height": 81,
    "deepnote_cell_type": "code",
    "deepnote_to_be_reexecuted": false,
    "execution_millis": 0,
    "execution_start": 1647930760948,
    "source_hash": "c936f8bb",
    "tags": []
   },
   "outputs": [],
   "source": [
    "# Усредним рантаймы, чтобы получить одну целевую переменную\n",
    "# Здесь это вполне ок, у всех 4 переменных примерно одинаковые характеристики, совсем минимально отличаются друг от друга\n",
    "# Подробнее дальше\n",
    "data[\"avg_runtime\"] = data.iloc[:, -4:].mean(axis=1)"
   ]
  },
  {
   "cell_type": "code",
   "execution_count": 9,
   "metadata": {
    "cell_id": "c877f113c246428f867d45b6a7f99e47",
    "deepnote_cell_height": 516,
    "deepnote_cell_type": "code",
    "deepnote_to_be_reexecuted": false,
    "execution_millis": 156,
    "execution_start": 1647930761147,
    "source_hash": "629b6d47",
    "tags": []
   },
   "outputs": [
    {
     "data": {
      "text/html": [
       "<div>\n",
       "<style scoped>\n",
       "    .dataframe tbody tr th:only-of-type {\n",
       "        vertical-align: middle;\n",
       "    }\n",
       "\n",
       "    .dataframe tbody tr th {\n",
       "        vertical-align: top;\n",
       "    }\n",
       "\n",
       "    .dataframe thead th {\n",
       "        text-align: right;\n",
       "    }\n",
       "</style>\n",
       "<table border=\"1\" class=\"dataframe\">\n",
       "  <thead>\n",
       "    <tr style=\"text-align: right;\">\n",
       "      <th></th>\n",
       "      <th>Run1 (ms)</th>\n",
       "      <th>Run2 (ms)</th>\n",
       "      <th>Run3 (ms)</th>\n",
       "      <th>Run4 (ms)</th>\n",
       "      <th>avg_runtime</th>\n",
       "    </tr>\n",
       "  </thead>\n",
       "  <tbody>\n",
       "    <tr>\n",
       "      <th>count</th>\n",
       "      <td>241600.000000</td>\n",
       "      <td>241600.000000</td>\n",
       "      <td>241600.000000</td>\n",
       "      <td>241600.000000</td>\n",
       "      <td>241600.000000</td>\n",
       "    </tr>\n",
       "    <tr>\n",
       "      <th>mean</th>\n",
       "      <td>217.647852</td>\n",
       "      <td>217.579536</td>\n",
       "      <td>217.532756</td>\n",
       "      <td>217.527669</td>\n",
       "      <td>217.571953</td>\n",
       "    </tr>\n",
       "    <tr>\n",
       "      <th>std</th>\n",
       "      <td>369.012422</td>\n",
       "      <td>368.677309</td>\n",
       "      <td>368.655118</td>\n",
       "      <td>368.677413</td>\n",
       "      <td>368.750161</td>\n",
       "    </tr>\n",
       "    <tr>\n",
       "      <th>min</th>\n",
       "      <td>13.290000</td>\n",
       "      <td>13.250000</td>\n",
       "      <td>13.360000</td>\n",
       "      <td>13.370000</td>\n",
       "      <td>13.317500</td>\n",
       "    </tr>\n",
       "    <tr>\n",
       "      <th>25%</th>\n",
       "      <td>40.660000</td>\n",
       "      <td>40.710000</td>\n",
       "      <td>40.660000</td>\n",
       "      <td>40.640000</td>\n",
       "      <td>40.667500</td>\n",
       "    </tr>\n",
       "    <tr>\n",
       "      <th>50%</th>\n",
       "      <td>69.825000</td>\n",
       "      <td>69.930000</td>\n",
       "      <td>69.790000</td>\n",
       "      <td>69.820000</td>\n",
       "      <td>69.790000</td>\n",
       "    </tr>\n",
       "    <tr>\n",
       "      <th>75%</th>\n",
       "      <td>228.530000</td>\n",
       "      <td>228.310000</td>\n",
       "      <td>228.320000</td>\n",
       "      <td>228.320000</td>\n",
       "      <td>228.387500</td>\n",
       "    </tr>\n",
       "    <tr>\n",
       "      <th>max</th>\n",
       "      <td>3339.630000</td>\n",
       "      <td>3375.420000</td>\n",
       "      <td>3397.080000</td>\n",
       "      <td>3361.710000</td>\n",
       "      <td>3341.507500</td>\n",
       "    </tr>\n",
       "  </tbody>\n",
       "</table>\n",
       "</div>"
      ],
      "text/plain": [
       "           Run1 (ms)      Run2 (ms)      Run3 (ms)      Run4 (ms)  \\\n",
       "count  241600.000000  241600.000000  241600.000000  241600.000000   \n",
       "mean      217.647852     217.579536     217.532756     217.527669   \n",
       "std       369.012422     368.677309     368.655118     368.677413   \n",
       "min        13.290000      13.250000      13.360000      13.370000   \n",
       "25%        40.660000      40.710000      40.660000      40.640000   \n",
       "50%        69.825000      69.930000      69.790000      69.820000   \n",
       "75%       228.530000     228.310000     228.320000     228.320000   \n",
       "max      3339.630000    3375.420000    3397.080000    3361.710000   \n",
       "\n",
       "         avg_runtime  \n",
       "count  241600.000000  \n",
       "mean      217.571953  \n",
       "std       368.750161  \n",
       "min        13.317500  \n",
       "25%        40.667500  \n",
       "50%        69.790000  \n",
       "75%       228.387500  \n",
       "max      3341.507500  "
      ]
     },
     "execution_count": 9,
     "metadata": {},
     "output_type": "execute_result"
    }
   ],
   "source": [
    "# Все характеристики очень похожи\n",
    "data.iloc[:, -5:].describe()"
   ]
  },
  {
   "cell_type": "code",
   "execution_count": 10,
   "metadata": {
    "cell_id": "ef62c9af92d741889b9ae46ce598bfaf",
    "deepnote_cell_height": 744.1875,
    "deepnote_cell_type": "code",
    "deepnote_output_heights": [
     21.1875,
     577
    ],
    "deepnote_to_be_reexecuted": false,
    "execution_millis": 963,
    "execution_start": 1647930761411,
    "source_hash": "106c0f3a",
    "tags": []
   },
   "outputs": [
    {
     "data": {
      "text/plain": [
       "<AxesSubplot:>"
      ]
     },
     "execution_count": 10,
     "metadata": {},
     "output_type": "execute_result"
    },
    {
     "data": {
      "image/png": "[encoded data removed]",
      "text/plain": [
       "<Figure size 1080x720 with 1 Axes>"
      ]
     },
     "metadata": {
      "needs_background": "light"
     },
     "output_type": "display_data"
    }
   ],
   "source": [
    "# Строим box-plot для каждой переменной\n",
    "# Вообще, видим, что у переменных MDIMC и NDIMC есть выбросы, если смотреть чисто статистически\n",
    "# Но если посмотреть на значения этих выбросах и прибегнуть к здравому смыслу и некоторому domain knowledge\n",
    "# То видно, что это вполне себе корректные значения, так что не будет ничего удалять\n",
    "\n",
    "plt.figure(figsize=(15, 10))\n",
    "sns.boxplot(data=data.drop(columns=[\"Run1 (ms)\", \"Run2 (ms)\", \"Run3 (ms)\", \"Run4 (ms)\", \"avg_runtime\"]), orient='h')"
   ]
  },
  {
   "cell_type": "code",
   "execution_count": 11,
   "metadata": {
    "cell_id": "74c365320ba54ac4b5cf01d846066992",
    "deepnote_cell_height": 482.90625,
    "deepnote_cell_type": "code",
    "deepnote_output_heights": [
     385.90625
    ],
    "deepnote_to_be_reexecuted": false,
    "execution_millis": 366,
    "execution_start": 1647930762371,
    "source_hash": "c70742ad",
    "tags": []
   },
   "outputs": [
    {
     "data": {
      "text/plain": [
       "MWG            0\n",
       "NWG            0\n",
       "KWG            0\n",
       "MDIMC          0\n",
       "NDIMC          0\n",
       "MDIMA          0\n",
       "NDIMB          0\n",
       "KWI            0\n",
       "VWM            0\n",
       "VWN            0\n",
       "STRM           0\n",
       "STRN           0\n",
       "SA             0\n",
       "SB             0\n",
       "Run1 (ms)      0\n",
       "Run2 (ms)      0\n",
       "Run3 (ms)      0\n",
       "Run4 (ms)      0\n",
       "avg_runtime    0\n",
       "dtype: int64"
      ]
     },
     "execution_count": 11,
     "metadata": {},
     "output_type": "execute_result"
    }
   ],
   "source": [
    "# Пропущенных значений даже нет, удивительно!))\n",
    "data.isna().sum()"
   ]
  },
  {
   "cell_type": "code",
   "execution_count": 12,
   "metadata": {
    "cell_id": "64194efb3cd840ce8da94bb480e98430",
    "deepnote_cell_height": 156.578125,
    "deepnote_cell_type": "code",
    "deepnote_output_heights": [
     59.578125
    ],
    "deepnote_to_be_reexecuted": false,
    "execution_millis": 465,
    "execution_start": 1647930762394,
    "source_hash": "a66f9b22",
    "tags": []
   },
   "outputs": [
    {
     "data": {
      "text/plain": [
       "Index(['MWG', 'NWG', 'KWG', 'MDIMC', 'NDIMC', 'MDIMA', 'NDIMB', 'KWI', 'VWM',\n",
       "       'VWN', 'STRM', 'STRN', 'SA', 'SB'],\n",
       "      dtype='object')"
      ]
     },
     "execution_count": 12,
     "metadata": {},
     "output_type": "execute_result"
    }
   ],
   "source": [
    "# Выведем список столбцов\n",
    "data.iloc[:, :14].columns"
   ]
  },
  {
   "cell_type": "code",
   "execution_count": 13,
   "metadata": {
    "cell_id": "4d5126bf72954ababa517f912e3a80a8",
    "deepnote_cell_height": 778.1875,
    "deepnote_cell_type": "code",
    "deepnote_output_heights": [
     21.1875,
     611
    ],
    "deepnote_to_be_reexecuted": false,
    "execution_millis": 4656,
    "execution_start": 1647930762411,
    "source_hash": "64eec97",
    "tags": []
   },
   "outputs": [
    {
     "data": {
      "text/plain": [
       "<AxesSubplot:>"
      ]
     },
     "execution_count": 13,
     "metadata": {},
     "output_type": "execute_result"
    },
    {
     "data": {
      "image/png": "[encoded data removed]",
      "text/plain": [
       "<Figure size 1080x720 with 2 Axes>"
      ]
     },
     "metadata": {
      "needs_background": "light"
     },
     "output_type": "display_data"
    }
   ],
   "source": [
    "# Как мы видим, сильной корреляции (линейной!) между признаками нет, поэтому не будем ничего удалять\n",
    "# Ну, за исключением рантаймов, там все понятно\n",
    "plt.figure(figsize=(15, 10))\n",
    "sns.heatmap(data.corr(), annot=True)"
   ]
  },
  {
   "cell_type": "code",
   "execution_count": 14,
   "metadata": {
    "cell_id": "2079675fdc54459199d2282ea4464bb3",
    "deepnote_cell_height": 744.1875,
    "deepnote_cell_type": "code",
    "deepnote_output_heights": [
     21.1875,
     577
    ],
    "deepnote_to_be_reexecuted": false,
    "execution_millis": 1153,
    "execution_start": 1647930767073,
    "source_hash": "742bbcda",
    "tags": []
   },
   "outputs": [
    {
     "data": {
      "text/plain": [
       "<AxesSubplot:>"
      ]
     },
     "execution_count": 14,
     "metadata": {},
     "output_type": "execute_result"
    },
    {
     "data": {
      "image/png": "[encoded data removed]",
      "text/plain": [
       "<Figure size 1080x720 with 1 Axes>"
      ]
     },
     "metadata": {
      "needs_background": "light"
     },
     "output_type": "display_data"
    }
   ],
   "source": [
    "# Убедимся ещё раз, что усреднение было оправдано\n",
    "plt.figure(figsize=(15, 10))\n",
    "sns.boxplot(data=data[[\"Run1 (ms)\", \"Run2 (ms)\", \"Run3 (ms)\", \"Run4 (ms)\", \"avg_runtime\"]], orient='h')"
   ]
  },
  {
   "cell_type": "code",
   "execution_count": 15,
   "metadata": {
    "cell_id": "e826f72711294c9084c08517ecef88c7",
    "deepnote_cell_height": 414.1875,
    "deepnote_cell_type": "code",
    "deepnote_output_heights": [
     21.1875,
     265
    ],
    "deepnote_to_be_reexecuted": false,
    "execution_millis": 1818,
    "execution_start": 1647930768236,
    "source_hash": "6d1962b7",
    "tags": []
   },
   "outputs": [
    {
     "data": {
      "text/plain": [
       "<AxesSubplot:xlabel='avg_runtime', ylabel='Count'>"
      ]
     },
     "execution_count": 15,
     "metadata": {},
     "output_type": "execute_result"
    },
    {
     "data": {
      "image/png": "[encoded data removed]",
      "text/plain": [
       "<Figure size 432x288 with 1 Axes>"
      ]
     },
     "metadata": {
      "needs_background": "light"
     },
     "output_type": "display_data"
    }
   ],
   "source": [
    "# Но вот незадача! Данные очень сильно скошены влево, так не годится\n",
    "# Но, к счастью, даже в описании датасета рекомендуют привести целевую переменную к log-шкале, чтобы всё сгладить\n",
    "# Мы сделаем так чуть позже, но пока давайте проанализируем, что есть\n",
    "# Ну и если мы захотим анализировать выбросы уже на этом этапе, их будет, скажем так, достаточно много\n",
    "# А вот удалять тонну наблюдений из-за ~потенциальных~ выбросов в ЦЕЛЕВОЙ перемнной не comme il faut\n",
    "\n",
    "sns.histplot(data[\"avg_runtime\"])"
   ]
  },
  {
   "cell_type": "code",
   "execution_count": 16,
   "metadata": {
    "cell_id": "496307dbf604430bb57056eb38d3a700",
    "deepnote_cell_height": 81,
    "deepnote_cell_type": "code",
    "deepnote_to_be_reexecuted": false,
    "execution_millis": 1,
    "execution_start": 1647930770086,
    "source_hash": "bc6405ca",
    "tags": []
   },
   "outputs": [],
   "source": [
    "# Дропаем ненужные показатели\n",
    "data = data.drop([\"Run1 (ms)\", \"Run2 (ms)\", \"Run3 (ms)\", \"Run4 (ms)\"], axis=1)"
   ]
  },
  {
   "cell_type": "code",
   "execution_count": 17,
   "metadata": {
    "cell_id": "d834c89c36fa47e2b2943dd9b4963014",
    "deepnote_cell_height": 472.34375,
    "deepnote_cell_type": "code",
    "deepnote_to_be_reexecuted": false,
    "execution_millis": 474,
    "execution_start": 1647930770088,
    "source_hash": "821e1cb7",
    "tags": []
   },
   "outputs": [
    {
     "name": "stdout",
     "output_type": "stream",
     "text": [
      "Q1\n",
      "avg_runtime    40.6675\n",
      "Name: 0.25, dtype: float64\n",
      "\n",
      "Q3\n",
      "avg_runtime    228.3875\n",
      "Name: 0.75, dtype: float64\n",
      "\n",
      "IQR\n",
      "avg_runtime    187.72\n",
      "dtype: float64\n",
      "\n"
     ]
    }
   ],
   "source": [
    "# Посмотрим все-таки на выбросы без log-шкалы\n",
    "Q1 = data.loc[:, [\"avg_runtime\"]].quantile(0.25)\n",
    "Q3 = data.loc[:, [\"avg_runtime\"]].quantile(0.75)\n",
    "IQR = Q3 - Q1\n",
    "\n",
    "iqr = ((data < (Q1 - 1.5 * IQR)) | (data > (Q3 + 1.5 * IQR)))\n",
    "\n",
    "print(f'Q1\\n{Q1}\\n')\n",
    "print(f'Q3\\n{Q3}\\n')\n",
    "print(f'IQR\\n{IQR}\\n')"
   ]
  },
  {
   "cell_type": "code",
   "execution_count": 18,
   "metadata": {
    "cell_id": "3afd4839d7314f74a8bb296e4abd6e22",
    "deepnote_cell_height": 99,
    "deepnote_cell_type": "code",
    "deepnote_output_heights": [
     174.75,
     272
    ],
    "deepnote_to_be_reexecuted": false,
    "execution_millis": 8,
    "execution_start": 1647930770133,
    "source_hash": "bc8aa80f",
    "tags": []
   },
   "outputs": [],
   "source": [
    "outlier_data = data[iqr[[\"avg_runtime\"]].all(axis=1)]\n",
    "rel_data = data[~iqr[[\"avg_runtime\"]].all(axis=1)]"
   ]
  },
  {
   "cell_type": "code",
   "execution_count": 19,
   "metadata": {
    "cell_id": "447ae96725de4af490575dae2a6d09b5",
    "deepnote_cell_height": 271.75,
    "deepnote_cell_type": "code",
    "deepnote_output_heights": [
     174.75,
     269
    ],
    "deepnote_to_be_reexecuted": false,
    "execution_millis": 389,
    "execution_start": 1647930770192,
    "source_hash": "864d2ee7",
    "tags": []
   },
   "outputs": [
    {
     "data": {
      "text/plain": [
       "count    26767.000000\n",
       "mean      1044.395308\n",
       "std        595.430962\n",
       "min        509.972500\n",
       "25%        638.355000\n",
       "50%        851.567500\n",
       "75%       1139.076250\n",
       "max       3341.507500\n",
       "Name: avg_runtime, dtype: float64"
      ]
     },
     "execution_count": 19,
     "metadata": {},
     "output_type": "execute_result"
    }
   ],
   "source": [
    "# Как-то совсем не очень, выбросов неприлично много так выходит\n",
    "outlier_data[\"avg_runtime\"].describe()"
   ]
  },
  {
   "cell_type": "code",
   "execution_count": 20,
   "metadata": {},
   "outputs": [
    {
     "data": {
      "text/plain": [
       "count    214833.000000\n",
       "mean        114.554350\n",
       "std         113.825481\n",
       "min          13.317500\n",
       "25%          39.095000\n",
       "50%          61.790000\n",
       "75%         157.892500\n",
       "max         509.962500\n",
       "Name: avg_runtime, dtype: float64"
      ]
     },
     "execution_count": 20,
     "metadata": {},
     "output_type": "execute_result"
    }
   ],
   "source": [
    "# На остальных данных показатели достаточно сильно отличаются\n",
    "rel_data[\"avg_runtime\"].describe()"
   ]
  },
  {
   "cell_type": "code",
   "execution_count": 21,
   "metadata": {
    "cell_id": "e0020f41640e4d1d9f500750aa6fafe8",
    "deepnote_cell_height": 147.6875,
    "deepnote_cell_type": "code",
    "deepnote_to_be_reexecuted": false,
    "execution_millis": 390,
    "execution_start": 1647930770194,
    "source_hash": "bc1a4e3e",
    "tags": []
   },
   "outputs": [],
   "source": [
    "# Давайте еще попробуем отфильтровать выбросы, выходящие за пределы 3ей сигмы\n",
    "# Их выходит меньше, уже лучше, но все еще многовато\n",
    "# Понятно, конечно, что линрег сильно чувствителен к выбросам, но эти данные не кажутся реальными выбросами\n",
    "# Посмотрим дальше\n",
    "z = np.abs(stats.zscore(data[[\"avg_runtime\"]]))\n",
    "outliers = np.where(z > 3)\n",
    "# print(outliers[0].shape)"
   ]
  },
  {
   "cell_type": "code",
   "execution_count": 22,
   "metadata": {
    "cell_id": "5da510e95767487eb2f589b7a7ced56b",
    "deepnote_cell_height": 598,
    "deepnote_cell_type": "code",
    "deepnote_output_heights": [
     21.1875,
     251
    ],
    "deepnote_table_loading": false,
    "deepnote_table_state": {
     "filters": [],
     "pageIndex": 0,
     "pageSize": 10,
     "sortBy": []
    },
    "deepnote_to_be_reexecuted": false,
    "execution_millis": 349,
    "execution_start": 1647930770236,
    "source_hash": "e7f0e7f7",
    "tags": []
   },
   "outputs": [
    {
     "data": {
      "text/html": [
       "<div>\n",
       "<style scoped>\n",
       "    .dataframe tbody tr th:only-of-type {\n",
       "        vertical-align: middle;\n",
       "    }\n",
       "\n",
       "    .dataframe tbody tr th {\n",
       "        vertical-align: top;\n",
       "    }\n",
       "\n",
       "    .dataframe thead th {\n",
       "        text-align: right;\n",
       "    }\n",
       "</style>\n",
       "<table border=\"1\" class=\"dataframe\">\n",
       "  <thead>\n",
       "    <tr style=\"text-align: right;\">\n",
       "      <th></th>\n",
       "      <th>count</th>\n",
       "      <th>mean</th>\n",
       "      <th>std</th>\n",
       "      <th>min</th>\n",
       "      <th>25%</th>\n",
       "      <th>50%</th>\n",
       "      <th>75%</th>\n",
       "      <th>max</th>\n",
       "    </tr>\n",
       "  </thead>\n",
       "  <tbody>\n",
       "    <tr>\n",
       "      <th>MWG</th>\n",
       "      <td>214833.0</td>\n",
       "      <td>75.688037</td>\n",
       "      <td>41.968313</td>\n",
       "      <td>16.0</td>\n",
       "      <td>32.0</td>\n",
       "      <td>64.0</td>\n",
       "      <td>128.0</td>\n",
       "      <td>128.0</td>\n",
       "    </tr>\n",
       "    <tr>\n",
       "      <th>NWG</th>\n",
       "      <td>214833.0</td>\n",
       "      <td>75.761619</td>\n",
       "      <td>41.997377</td>\n",
       "      <td>16.0</td>\n",
       "      <td>32.0</td>\n",
       "      <td>64.0</td>\n",
       "      <td>128.0</td>\n",
       "      <td>128.0</td>\n",
       "    </tr>\n",
       "    <tr>\n",
       "      <th>KWG</th>\n",
       "      <td>214833.0</td>\n",
       "      <td>25.592567</td>\n",
       "      <td>7.839899</td>\n",
       "      <td>16.0</td>\n",
       "      <td>16.0</td>\n",
       "      <td>32.0</td>\n",
       "      <td>32.0</td>\n",
       "      <td>32.0</td>\n",
       "    </tr>\n",
       "    <tr>\n",
       "      <th>MDIMC</th>\n",
       "      <td>214833.0</td>\n",
       "      <td>14.475690</td>\n",
       "      <td>8.111065</td>\n",
       "      <td>8.0</td>\n",
       "      <td>8.0</td>\n",
       "      <td>16.0</td>\n",
       "      <td>16.0</td>\n",
       "      <td>32.0</td>\n",
       "    </tr>\n",
       "    <tr>\n",
       "      <th>NDIMC</th>\n",
       "      <td>214833.0</td>\n",
       "      <td>14.470700</td>\n",
       "      <td>8.111264</td>\n",
       "      <td>8.0</td>\n",
       "      <td>8.0</td>\n",
       "      <td>16.0</td>\n",
       "      <td>16.0</td>\n",
       "      <td>32.0</td>\n",
       "    </tr>\n",
       "    <tr>\n",
       "      <th>MDIMA</th>\n",
       "      <td>214833.0</td>\n",
       "      <td>17.390550</td>\n",
       "      <td>9.375134</td>\n",
       "      <td>8.0</td>\n",
       "      <td>8.0</td>\n",
       "      <td>16.0</td>\n",
       "      <td>32.0</td>\n",
       "      <td>32.0</td>\n",
       "    </tr>\n",
       "    <tr>\n",
       "      <th>NDIMB</th>\n",
       "      <td>214833.0</td>\n",
       "      <td>17.388762</td>\n",
       "      <td>9.374445</td>\n",
       "      <td>8.0</td>\n",
       "      <td>8.0</td>\n",
       "      <td>16.0</td>\n",
       "      <td>32.0</td>\n",
       "      <td>32.0</td>\n",
       "    </tr>\n",
       "    <tr>\n",
       "      <th>KWI</th>\n",
       "      <td>214833.0</td>\n",
       "      <td>5.005544</td>\n",
       "      <td>3.000002</td>\n",
       "      <td>2.0</td>\n",
       "      <td>2.0</td>\n",
       "      <td>8.0</td>\n",
       "      <td>8.0</td>\n",
       "      <td>8.0</td>\n",
       "    </tr>\n",
       "    <tr>\n",
       "      <th>VWM</th>\n",
       "      <td>214833.0</td>\n",
       "      <td>2.339538</td>\n",
       "      <td>1.858623</td>\n",
       "      <td>1.0</td>\n",
       "      <td>1.0</td>\n",
       "      <td>2.0</td>\n",
       "      <td>4.0</td>\n",
       "      <td>8.0</td>\n",
       "    </tr>\n",
       "    <tr>\n",
       "      <th>VWN</th>\n",
       "      <td>214833.0</td>\n",
       "      <td>2.345156</td>\n",
       "      <td>1.862122</td>\n",
       "      <td>1.0</td>\n",
       "      <td>1.0</td>\n",
       "      <td>2.0</td>\n",
       "      <td>4.0</td>\n",
       "      <td>8.0</td>\n",
       "    </tr>\n",
       "    <tr>\n",
       "      <th>STRM</th>\n",
       "      <td>214833.0</td>\n",
       "      <td>0.500580</td>\n",
       "      <td>0.500001</td>\n",
       "      <td>0.0</td>\n",
       "      <td>0.0</td>\n",
       "      <td>1.0</td>\n",
       "      <td>1.0</td>\n",
       "      <td>1.0</td>\n",
       "    </tr>\n",
       "    <tr>\n",
       "      <th>STRN</th>\n",
       "      <td>214833.0</td>\n",
       "      <td>0.500044</td>\n",
       "      <td>0.500001</td>\n",
       "      <td>0.0</td>\n",
       "      <td>0.0</td>\n",
       "      <td>1.0</td>\n",
       "      <td>1.0</td>\n",
       "      <td>1.0</td>\n",
       "    </tr>\n",
       "    <tr>\n",
       "      <th>SA</th>\n",
       "      <td>214833.0</td>\n",
       "      <td>0.486038</td>\n",
       "      <td>0.499806</td>\n",
       "      <td>0.0</td>\n",
       "      <td>0.0</td>\n",
       "      <td>0.0</td>\n",
       "      <td>1.0</td>\n",
       "      <td>1.0</td>\n",
       "    </tr>\n",
       "    <tr>\n",
       "      <th>SB</th>\n",
       "      <td>214833.0</td>\n",
       "      <td>0.485056</td>\n",
       "      <td>0.499778</td>\n",
       "      <td>0.0</td>\n",
       "      <td>0.0</td>\n",
       "      <td>0.0</td>\n",
       "      <td>1.0</td>\n",
       "      <td>1.0</td>\n",
       "    </tr>\n",
       "  </tbody>\n",
       "</table>\n",
       "</div>"
      ],
      "text/plain": [
       "          count       mean        std   min   25%   50%    75%    max\n",
       "MWG    214833.0  75.688037  41.968313  16.0  32.0  64.0  128.0  128.0\n",
       "NWG    214833.0  75.761619  41.997377  16.0  32.0  64.0  128.0  128.0\n",
       "KWG    214833.0  25.592567   7.839899  16.0  16.0  32.0   32.0   32.0\n",
       "MDIMC  214833.0  14.475690   8.111065   8.0   8.0  16.0   16.0   32.0\n",
       "NDIMC  214833.0  14.470700   8.111264   8.0   8.0  16.0   16.0   32.0\n",
       "MDIMA  214833.0  17.390550   9.375134   8.0   8.0  16.0   32.0   32.0\n",
       "NDIMB  214833.0  17.388762   9.374445   8.0   8.0  16.0   32.0   32.0\n",
       "KWI    214833.0   5.005544   3.000002   2.0   2.0   8.0    8.0    8.0\n",
       "VWM    214833.0   2.339538   1.858623   1.0   1.0   2.0    4.0    8.0\n",
       "VWN    214833.0   2.345156   1.862122   1.0   1.0   2.0    4.0    8.0\n",
       "STRM   214833.0   0.500580   0.500001   0.0   0.0   1.0    1.0    1.0\n",
       "STRN   214833.0   0.500044   0.500001   0.0   0.0   1.0    1.0    1.0\n",
       "SA     214833.0   0.486038   0.499806   0.0   0.0   0.0    1.0    1.0\n",
       "SB     214833.0   0.485056   0.499778   0.0   0.0   0.0    1.0    1.0"
      ]
     },
     "execution_count": 22,
     "metadata": {},
     "output_type": "execute_result"
    }
   ],
   "source": [
    "# Сравним характеристики независимых переменных у потенциальных выбросов и остальных значений\n",
    "rel_data.iloc[:, :-1].describe().T"
   ]
  },
  {
   "cell_type": "code",
   "execution_count": 23,
   "metadata": {
    "cell_id": "8d17227a240d4c02a5f73ca885f4ce94",
    "deepnote_cell_height": 598,
    "deepnote_cell_type": "code",
    "deepnote_table_loading": false,
    "deepnote_table_state": {
     "filters": [],
     "pageIndex": 0,
     "pageSize": 10,
     "sortBy": []
    },
    "deepnote_to_be_reexecuted": false,
    "execution_millis": 197,
    "execution_start": 1647930770391,
    "source_hash": "e632ea9e",
    "tags": []
   },
   "outputs": [
    {
     "data": {
      "text/html": [
       "<div>\n",
       "<style scoped>\n",
       "    .dataframe tbody tr th:only-of-type {\n",
       "        vertical-align: middle;\n",
       "    }\n",
       "\n",
       "    .dataframe tbody tr th {\n",
       "        vertical-align: top;\n",
       "    }\n",
       "\n",
       "    .dataframe thead th {\n",
       "        text-align: right;\n",
       "    }\n",
       "</style>\n",
       "<table border=\"1\" class=\"dataframe\">\n",
       "  <thead>\n",
       "    <tr style=\"text-align: right;\">\n",
       "      <th></th>\n",
       "      <th>count</th>\n",
       "      <th>mean</th>\n",
       "      <th>std</th>\n",
       "      <th>min</th>\n",
       "      <th>25%</th>\n",
       "      <th>50%</th>\n",
       "      <th>75%</th>\n",
       "      <th>max</th>\n",
       "    </tr>\n",
       "  </thead>\n",
       "  <tbody>\n",
       "    <tr>\n",
       "      <th>MWG</th>\n",
       "      <td>26767.0</td>\n",
       "      <td>118.357081</td>\n",
       "      <td>22.894988</td>\n",
       "      <td>64.0</td>\n",
       "      <td>128.0</td>\n",
       "      <td>128.0</td>\n",
       "      <td>128.0</td>\n",
       "      <td>128.0</td>\n",
       "    </tr>\n",
       "    <tr>\n",
       "      <th>NWG</th>\n",
       "      <td>26767.0</td>\n",
       "      <td>117.766504</td>\n",
       "      <td>23.549973</td>\n",
       "      <td>16.0</td>\n",
       "      <td>128.0</td>\n",
       "      <td>128.0</td>\n",
       "      <td>128.0</td>\n",
       "      <td>128.0</td>\n",
       "    </tr>\n",
       "    <tr>\n",
       "      <th>KWG</th>\n",
       "      <td>26767.0</td>\n",
       "      <td>24.875406</td>\n",
       "      <td>7.952108</td>\n",
       "      <td>16.0</td>\n",
       "      <td>16.0</td>\n",
       "      <td>32.0</td>\n",
       "      <td>32.0</td>\n",
       "      <td>32.0</td>\n",
       "    </tr>\n",
       "    <tr>\n",
       "      <th>MDIMC</th>\n",
       "      <td>26767.0</td>\n",
       "      <td>9.603467</td>\n",
       "      <td>3.229423</td>\n",
       "      <td>8.0</td>\n",
       "      <td>8.0</td>\n",
       "      <td>8.0</td>\n",
       "      <td>8.0</td>\n",
       "      <td>32.0</td>\n",
       "    </tr>\n",
       "    <tr>\n",
       "      <th>NDIMC</th>\n",
       "      <td>26767.0</td>\n",
       "      <td>9.643516</td>\n",
       "      <td>3.285071</td>\n",
       "      <td>8.0</td>\n",
       "      <td>8.0</td>\n",
       "      <td>8.0</td>\n",
       "      <td>8.0</td>\n",
       "      <td>32.0</td>\n",
       "    </tr>\n",
       "    <tr>\n",
       "      <th>MDIMA</th>\n",
       "      <td>26767.0</td>\n",
       "      <td>17.215228</td>\n",
       "      <td>9.502028</td>\n",
       "      <td>8.0</td>\n",
       "      <td>8.0</td>\n",
       "      <td>16.0</td>\n",
       "      <td>32.0</td>\n",
       "      <td>32.0</td>\n",
       "    </tr>\n",
       "    <tr>\n",
       "      <th>NDIMB</th>\n",
       "      <td>26767.0</td>\n",
       "      <td>17.229574</td>\n",
       "      <td>9.507730</td>\n",
       "      <td>8.0</td>\n",
       "      <td>8.0</td>\n",
       "      <td>16.0</td>\n",
       "      <td>32.0</td>\n",
       "      <td>32.0</td>\n",
       "    </tr>\n",
       "    <tr>\n",
       "      <th>KWI</th>\n",
       "      <td>26767.0</td>\n",
       "      <td>4.955505</td>\n",
       "      <td>2.999726</td>\n",
       "      <td>2.0</td>\n",
       "      <td>2.0</td>\n",
       "      <td>2.0</td>\n",
       "      <td>8.0</td>\n",
       "      <td>8.0</td>\n",
       "    </tr>\n",
       "    <tr>\n",
       "      <th>VWM</th>\n",
       "      <td>26767.0</td>\n",
       "      <td>3.324018</td>\n",
       "      <td>2.422102</td>\n",
       "      <td>1.0</td>\n",
       "      <td>1.0</td>\n",
       "      <td>2.0</td>\n",
       "      <td>4.0</td>\n",
       "      <td>8.0</td>\n",
       "    </tr>\n",
       "    <tr>\n",
       "      <th>VWN</th>\n",
       "      <td>26767.0</td>\n",
       "      <td>3.278926</td>\n",
       "      <td>2.418387</td>\n",
       "      <td>1.0</td>\n",
       "      <td>1.0</td>\n",
       "      <td>2.0</td>\n",
       "      <td>4.0</td>\n",
       "      <td>8.0</td>\n",
       "    </tr>\n",
       "    <tr>\n",
       "      <th>STRM</th>\n",
       "      <td>26767.0</td>\n",
       "      <td>0.495349</td>\n",
       "      <td>0.499988</td>\n",
       "      <td>0.0</td>\n",
       "      <td>0.0</td>\n",
       "      <td>0.0</td>\n",
       "      <td>1.0</td>\n",
       "      <td>1.0</td>\n",
       "    </tr>\n",
       "    <tr>\n",
       "      <th>STRN</th>\n",
       "      <td>26767.0</td>\n",
       "      <td>0.499645</td>\n",
       "      <td>0.500009</td>\n",
       "      <td>0.0</td>\n",
       "      <td>0.0</td>\n",
       "      <td>0.0</td>\n",
       "      <td>1.0</td>\n",
       "      <td>1.0</td>\n",
       "    </tr>\n",
       "    <tr>\n",
       "      <th>SA</th>\n",
       "      <td>26767.0</td>\n",
       "      <td>0.612060</td>\n",
       "      <td>0.487290</td>\n",
       "      <td>0.0</td>\n",
       "      <td>0.0</td>\n",
       "      <td>1.0</td>\n",
       "      <td>1.0</td>\n",
       "      <td>1.0</td>\n",
       "    </tr>\n",
       "    <tr>\n",
       "      <th>SB</th>\n",
       "      <td>26767.0</td>\n",
       "      <td>0.619942</td>\n",
       "      <td>0.485410</td>\n",
       "      <td>0.0</td>\n",
       "      <td>0.0</td>\n",
       "      <td>1.0</td>\n",
       "      <td>1.0</td>\n",
       "      <td>1.0</td>\n",
       "    </tr>\n",
       "  </tbody>\n",
       "</table>\n",
       "</div>"
      ],
      "text/plain": [
       "         count        mean        std   min    25%    50%    75%    max\n",
       "MWG    26767.0  118.357081  22.894988  64.0  128.0  128.0  128.0  128.0\n",
       "NWG    26767.0  117.766504  23.549973  16.0  128.0  128.0  128.0  128.0\n",
       "KWG    26767.0   24.875406   7.952108  16.0   16.0   32.0   32.0   32.0\n",
       "MDIMC  26767.0    9.603467   3.229423   8.0    8.0    8.0    8.0   32.0\n",
       "NDIMC  26767.0    9.643516   3.285071   8.0    8.0    8.0    8.0   32.0\n",
       "MDIMA  26767.0   17.215228   9.502028   8.0    8.0   16.0   32.0   32.0\n",
       "NDIMB  26767.0   17.229574   9.507730   8.0    8.0   16.0   32.0   32.0\n",
       "KWI    26767.0    4.955505   2.999726   2.0    2.0    2.0    8.0    8.0\n",
       "VWM    26767.0    3.324018   2.422102   1.0    1.0    2.0    4.0    8.0\n",
       "VWN    26767.0    3.278926   2.418387   1.0    1.0    2.0    4.0    8.0\n",
       "STRM   26767.0    0.495349   0.499988   0.0    0.0    0.0    1.0    1.0\n",
       "STRN   26767.0    0.499645   0.500009   0.0    0.0    0.0    1.0    1.0\n",
       "SA     26767.0    0.612060   0.487290   0.0    0.0    1.0    1.0    1.0\n",
       "SB     26767.0    0.619942   0.485410   0.0    0.0    1.0    1.0    1.0"
      ]
     },
     "execution_count": 23,
     "metadata": {},
     "output_type": "execute_result"
    }
   ],
   "source": [
    "# Видно, что признаки MWG, NWG, NDIMC, NDIMA достаточно сильно отличаются здесь от них же у нормальных данных\n",
    "# Если бы особых отличий не было, а значение целевой переменной действительно сильно отличалось бы, то я бы поверил, что это просто выбросы\n",
    "# Неполадки при снятии метрик или еще что-то, например\n",
    "# Но не здесь\n",
    "outlier_data.iloc[:, :-1].describe().T"
   ]
  },
  {
   "cell_type": "code",
   "execution_count": 24,
   "metadata": {
    "cell_id": "251c1692095543e5bdae2209e283b9f1",
    "deepnote_cell_height": 81,
    "deepnote_cell_type": "code",
    "deepnote_to_be_reexecuted": false,
    "execution_millis": 0,
    "execution_start": 1647930770501,
    "source_hash": "406f082f",
    "tags": []
   },
   "outputs": [],
   "source": [
    "# И все же приведем к лог-шкале\n",
    "data[\"avg_runtime\"] = data[\"avg_runtime\"].apply(np.log)"
   ]
  },
  {
   "cell_type": "code",
   "execution_count": 25,
   "metadata": {
    "cell_id": "b17d13dfd78f49928256197a7f6cf854",
    "deepnote_cell_height": 414.1875,
    "deepnote_cell_type": "code",
    "deepnote_output_heights": [
     21.1875,
     265
    ],
    "deepnote_to_be_reexecuted": false,
    "execution_millis": 781,
    "execution_start": 1647930770502,
    "source_hash": "6d1962b7",
    "tags": []
   },
   "outputs": [
    {
     "data": {
      "text/plain": [
       "<AxesSubplot:xlabel='avg_runtime', ylabel='Count'>"
      ]
     },
     "execution_count": 25,
     "metadata": {},
     "output_type": "execute_result"
    },
    {
     "data": {
      "image/png": "[encoded data removed]",
      "text/plain": [
       "<Figure size 432x288 with 1 Axes>"
      ]
     },
     "metadata": {
      "needs_background": "light"
     },
     "output_type": "display_data"
    }
   ],
   "source": [
    "# И оценим ее\n",
    "# Распределение выглядит значительно адекватнее прошлого\n",
    "sns.histplot(data[\"avg_runtime\"])"
   ]
  },
  {
   "cell_type": "code",
   "execution_count": 26,
   "metadata": {
    "cell_id": "eb5d57f8780340549256e08727fdd873",
    "deepnote_cell_height": 472.34375,
    "deepnote_cell_type": "code",
    "deepnote_to_be_reexecuted": false,
    "execution_millis": 36,
    "execution_start": 1647930771535,
    "source_hash": "821e1cb7",
    "tags": []
   },
   "outputs": [
    {
     "name": "stdout",
     "output_type": "stream",
     "text": [
      "Q1\n",
      "avg_runtime    3.705429\n",
      "Name: 0.25, dtype: float64\n",
      "\n",
      "Q3\n",
      "avg_runtime    5.431044\n",
      "Name: 0.75, dtype: float64\n",
      "\n",
      "IQR\n",
      "avg_runtime    1.725614\n",
      "dtype: float64\n",
      "\n"
     ]
    }
   ],
   "source": [
    "# Снова считаем IQR и смотрим на количество выбросов\n",
    "Q1 = data.loc[:, [\"avg_runtime\"]].quantile(0.25)\n",
    "Q3 = data.loc[:, [\"avg_runtime\"]].quantile(0.75)\n",
    "IQR = Q3 - Q1\n",
    "\n",
    "iqr = ((data < (Q1 - 1.5 * IQR)) | (data > (Q3 + 1.5 * IQR)))\n",
    "\n",
    "print(f'Q1\\n{Q1}\\n')\n",
    "print(f'Q3\\n{Q3}\\n')\n",
    "print(f'IQR\\n{IQR}\\n')"
   ]
  },
  {
   "cell_type": "code",
   "execution_count": 27,
   "metadata": {
    "cell_id": "7bac5639bdf64376994b276439235684",
    "deepnote_cell_height": 99,
    "deepnote_cell_type": "code",
    "deepnote_to_be_reexecuted": false,
    "execution_millis": 32,
    "execution_start": 1647930772746,
    "source_hash": "bc8aa80f",
    "tags": []
   },
   "outputs": [],
   "source": [
    "outlier_data = data[iqr[[\"avg_runtime\"]].all(axis=1)]\n",
    "rel_data = data[~iqr[[\"avg_runtime\"]].all(axis=1)]"
   ]
  },
  {
   "cell_type": "code",
   "execution_count": 28,
   "metadata": {
    "cell_id": "021be182bef54ce2bab8d168c2831003",
    "deepnote_cell_height": 271.75,
    "deepnote_cell_type": "code",
    "deepnote_output_heights": [
     174.75
    ],
    "deepnote_to_be_reexecuted": false,
    "execution_millis": 493,
    "execution_start": 1647930772956,
    "source_hash": "864d2ee7",
    "tags": []
   },
   "outputs": [
    {
     "data": {
      "text/plain": [
       "count    471.000000\n",
       "mean       8.053503\n",
       "std        0.018557\n",
       "min        8.019606\n",
       "25%        8.041629\n",
       "50%        8.049692\n",
       "75%        8.063404\n",
       "max        8.114177\n",
       "Name: avg_runtime, dtype: float64"
      ]
     },
     "execution_count": 28,
     "metadata": {},
     "output_type": "execute_result"
    }
   ],
   "source": [
    "outlier_data[\"avg_runtime\"].describe()"
   ]
  },
  {
   "cell_type": "code",
   "execution_count": 29,
   "metadata": {
    "cell_id": "9f898143a66b4389b51533cdbe8f6231",
    "deepnote_cell_height": 271.75,
    "deepnote_cell_type": "code",
    "deepnote_output_heights": [
     174.75
    ],
    "deepnote_to_be_reexecuted": false,
    "execution_millis": 25,
    "execution_start": 1647930773956,
    "source_hash": "dbd9050f",
    "tags": []
   },
   "outputs": [
    {
     "data": {
      "text/plain": [
       "count    241129.000000\n",
       "mean          4.616367\n",
       "std           1.119391\n",
       "min           2.589079\n",
       "25%           3.704814\n",
       "50%           4.243160\n",
       "75%           5.425005\n",
       "max           8.019197\n",
       "Name: avg_runtime, dtype: float64"
      ]
     },
     "execution_count": 29,
     "metadata": {},
     "output_type": "execute_result"
    }
   ],
   "source": [
    "rel_data[\"avg_runtime\"].describe()"
   ]
  },
  {
   "cell_type": "code",
   "execution_count": 30,
   "metadata": {
    "cell_id": "f385664443f649e1a0737cfd9701253b",
    "deepnote_cell_height": 147.6875,
    "deepnote_cell_type": "code",
    "deepnote_to_be_reexecuted": false,
    "execution_millis": 10,
    "execution_start": 1647930775293,
    "source_hash": "15038b4",
    "tags": []
   },
   "outputs": [],
   "source": [
    "# Считаем z-score и смотрим на количество выбросов\n",
    "# Здесь их уже примерно поровну, так что это выглядит уже значительно адекватнее\n",
    "# Ну и удалить такие 500 вхождений из датасета на сотни тысяч наблюдений уже вполне ок\n",
    "z = np.abs(stats.zscore(data[[\"avg_runtime\"]]))\n",
    "outliers = np.where(z > 3)\n",
    "# print(outliers[1].shape)"
   ]
  },
  {
   "cell_type": "code",
   "execution_count": 31,
   "metadata": {
    "cell_id": "6e32f2b2793645d6b9045b28a1a56580",
    "deepnote_cell_height": 81,
    "deepnote_cell_type": "code",
    "deepnote_to_be_reexecuted": false,
    "execution_millis": 17,
    "execution_start": 1647930869614,
    "source_hash": "ca8106a7",
    "tags": []
   },
   "outputs": [],
   "source": [
    "# Так и сделаем\n",
    "data = data.drop(outliers[0]).reset_index(drop=True)"
   ]
  },
  {
   "cell_type": "code",
   "execution_count": 32,
   "metadata": {
    "cell_id": "e86425a59e524d6d96bc117701500b94",
    "deepnote_cell_height": 81,
    "deepnote_cell_type": "code",
    "deepnote_to_be_reexecuted": false,
    "execution_millis": 0,
    "execution_start": 1647930967896,
    "source_hash": "a2b610a6",
    "tags": []
   },
   "outputs": [],
   "source": [
    "scaler = StandardScaler()"
   ]
  },
  {
   "cell_type": "code",
   "execution_count": 33,
   "metadata": {
    "cell_id": "441ad95c07d04a1484cce8c68bfb6edb",
    "deepnote_cell_height": 171,
    "deepnote_cell_type": "code",
    "deepnote_to_be_reexecuted": false,
    "execution_millis": 5,
    "execution_start": 1647931061495,
    "source_hash": "503c5ad4",
    "tags": []
   },
   "outputs": [],
   "source": [
    "# Отскейлим все (числовые) признаки\n",
    "X = pd.DataFrame(\n",
    "    data=scaler.fit_transform(data.drop(\"avg_runtime\", axis=1)),\n",
    "    columns=data.drop(\"avg_runtime\", axis=1).columns\n",
    "    )\n",
    "\n",
    "y = data[\"avg_runtime\"]"
   ]
  },
  {
   "cell_type": "markdown",
   "metadata": {
    "cell_id": "5bef9423d37d4607988ecafb2f82379a",
    "deepnote_cell_height": 62,
    "deepnote_cell_type": "markdown",
    "tags": []
   },
   "source": [
    "### Сплит датасета и служебные функции"
   ]
  },
  {
   "cell_type": "code",
   "execution_count": 34,
   "metadata": {
    "cell_id": "2b292422639b446e87d589ae7956a2a5",
    "deepnote_cell_height": 279,
    "deepnote_cell_type": "code",
    "deepnote_to_be_reexecuted": false,
    "execution_millis": 0,
    "execution_start": 1647931137745,
    "source_hash": "efd510fa",
    "tags": []
   },
   "outputs": [],
   "source": [
    "def metrify(model, y_true, y_pred):\n",
    "    print(\"========\")\n",
    "    print(f\"MSE: {np.round(mse(y_true, y_pred), 4)}\")\n",
    "    print(f\"RMSE: {np.round((mse(y_true, y_pred, squared=False)), 4)}\")\n",
    "    print(f\"MAE: {np.round(mae(y_true, y_pred), 4)}\")\n",
    "    print(f\"R**2 score: {np.round(r2(y_true, y_pred), 4)}\")\n",
    "    print(\"========\")"
   ]
  },
  {
   "cell_type": "code",
   "execution_count": 35,
   "metadata": {
    "cell_id": "4f79a0a4635f4a52997c3eae0b3ec21d",
    "deepnote_cell_height": 207,
    "deepnote_cell_type": "code",
    "deepnote_to_be_reexecuted": false,
    "execution_millis": 15,
    "execution_start": 1647933393520,
    "source_hash": "5b62ea19",
    "tags": []
   },
   "outputs": [],
   "source": [
    "def make_polyreg(degree=2, model=LinearRegression, **kwargs):\n",
    "    return make_pipeline(PolynomialFeatures(degree), model(**kwargs))\n",
    "\n",
    "    \n",
    "def fit_polyreg(model_type=LinearRegression, degree=1):\n",
    "    polyreg = make_polyreg(degree=degree, model=model_type)\n",
    "    model = polyreg.fit(X_train, y_train)\n",
    "    metrify(model, y_val, model.predict(X_val))\n",
    "    return model"
   ]
  },
  {
   "cell_type": "code",
   "execution_count": 36,
   "metadata": {
    "cell_id": "f95946727ce74f208f16311ac50be594",
    "deepnote_cell_height": 99,
    "deepnote_cell_type": "code",
    "deepnote_to_be_reexecuted": false,
    "execution_millis": 42,
    "execution_start": 1647933132610,
    "source_hash": "c5bdddc9",
    "tags": []
   },
   "outputs": [],
   "source": [
    "X_train, X_test, y_train, y_test = train_test_split(X, y, test_size=0.2)\n",
    "X_val, X_test, y_val, y_test = train_test_split(X_test, y_test, test_size=0.5)"
   ]
  },
  {
   "cell_type": "markdown",
   "metadata": {},
   "source": [
    "## Обучаем линейной и полиномиальной регрессии"
   ]
  },
  {
   "cell_type": "code",
   "execution_count": 37,
   "metadata": {},
   "outputs": [
    {
     "name": "stdout",
     "output_type": "stream",
     "text": [
      "========\n",
      "MSE: 0.5564\n",
      "RMSE: 0.7459\n",
      "MAE: 0.5983\n",
      "R**2 score: 0.5603\n",
      "========\n",
      "LinearRegression\n",
      "\n"
     ]
    },
    {
     "data": {
      "text/html": [
       "<div>\n",
       "<style scoped>\n",
       "    .dataframe tbody tr th:only-of-type {\n",
       "        vertical-align: middle;\n",
       "    }\n",
       "\n",
       "    .dataframe tbody tr th {\n",
       "        vertical-align: top;\n",
       "    }\n",
       "\n",
       "    .dataframe thead th {\n",
       "        text-align: right;\n",
       "    }\n",
       "</style>\n",
       "<table border=\"1\" class=\"dataframe\">\n",
       "  <thead>\n",
       "    <tr style=\"text-align: right;\">\n",
       "      <th></th>\n",
       "      <th>columns</th>\n",
       "      <th>coefs</th>\n",
       "    </tr>\n",
       "  </thead>\n",
       "  <tbody>\n",
       "    <tr>\n",
       "      <th>0</th>\n",
       "      <td>MWG</td>\n",
       "      <td>0.562402</td>\n",
       "    </tr>\n",
       "    <tr>\n",
       "      <th>1</th>\n",
       "      <td>NWG</td>\n",
       "      <td>0.443721</td>\n",
       "    </tr>\n",
       "    <tr>\n",
       "      <th>2</th>\n",
       "      <td>KWG</td>\n",
       "      <td>0.093083</td>\n",
       "    </tr>\n",
       "    <tr>\n",
       "      <th>5</th>\n",
       "      <td>MDIMA</td>\n",
       "      <td>-0.000133</td>\n",
       "    </tr>\n",
       "    <tr>\n",
       "      <th>6</th>\n",
       "      <td>NDIMB</td>\n",
       "      <td>-0.000664</td>\n",
       "    </tr>\n",
       "    <tr>\n",
       "      <th>11</th>\n",
       "      <td>STRN</td>\n",
       "      <td>-0.008963</td>\n",
       "    </tr>\n",
       "    <tr>\n",
       "      <th>7</th>\n",
       "      <td>KWI</td>\n",
       "      <td>-0.015212</td>\n",
       "    </tr>\n",
       "    <tr>\n",
       "      <th>8</th>\n",
       "      <td>VWM</td>\n",
       "      <td>-0.016829</td>\n",
       "    </tr>\n",
       "    <tr>\n",
       "      <th>13</th>\n",
       "      <td>SB</td>\n",
       "      <td>-0.027260</td>\n",
       "    </tr>\n",
       "    <tr>\n",
       "      <th>9</th>\n",
       "      <td>VWN</td>\n",
       "      <td>-0.045847</td>\n",
       "    </tr>\n",
       "    <tr>\n",
       "      <th>10</th>\n",
       "      <td>STRM</td>\n",
       "      <td>-0.065192</td>\n",
       "    </tr>\n",
       "    <tr>\n",
       "      <th>12</th>\n",
       "      <td>SA</td>\n",
       "      <td>-0.098664</td>\n",
       "    </tr>\n",
       "    <tr>\n",
       "      <th>4</th>\n",
       "      <td>NDIMC</td>\n",
       "      <td>-0.426811</td>\n",
       "    </tr>\n",
       "    <tr>\n",
       "      <th>3</th>\n",
       "      <td>MDIMC</td>\n",
       "      <td>-0.443288</td>\n",
       "    </tr>\n",
       "  </tbody>\n",
       "</table>\n",
       "</div>"
      ],
      "text/plain": [
       "   columns     coefs\n",
       "0      MWG  0.562402\n",
       "1      NWG  0.443721\n",
       "2      KWG  0.093083\n",
       "5    MDIMA -0.000133\n",
       "6    NDIMB -0.000664\n",
       "11    STRN -0.008963\n",
       "7      KWI -0.015212\n",
       "8      VWM -0.016829\n",
       "13      SB -0.027260\n",
       "9      VWN -0.045847\n",
       "10    STRM -0.065192\n",
       "12      SA -0.098664\n",
       "4    NDIMC -0.426811\n",
       "3    MDIMC -0.443288"
      ]
     },
     "execution_count": 37,
     "metadata": {},
     "output_type": "execute_result"
    }
   ],
   "source": [
    "# Обучаем дефолтный линрег и смотрим на коэффициенты признаков\n",
    "\n",
    "linreg = LinearRegression().fit(X_train, y_train)\n",
    "metrify(linreg, y_val, linreg.predict(X_val))\n",
    "print(\"LinearRegression\\n\")\n",
    "pd.DataFrame({\"columns\": X_train.columns, \"coefs\": linreg.coef_}).sort_values(by=\"coefs\", ascending=False)"
   ]
  },
  {
   "cell_type": "code",
   "execution_count": 38,
   "metadata": {
    "cell_id": "c748c4505ada4c97b5ee3845dc436bc6",
    "deepnote_cell_height": 249.5625,
    "deepnote_cell_type": "code",
    "deepnote_output_heights": [
     null,
     40.390625
    ],
    "deepnote_to_be_reexecuted": false,
    "execution_millis": 2901,
    "execution_start": 1647933458204,
    "source_hash": "c2271161",
    "tags": []
   },
   "outputs": [
    {
     "name": "stdout",
     "output_type": "stream",
     "text": [
      "========\n",
      "MSE: 0.2385\n",
      "RMSE: 0.4884\n",
      "MAE: 0.3925\n",
      "R**2 score: 0.8115\n",
      "========\n"
     ]
    }
   ],
   "source": [
    "# При использовании полиномиальной регрессии 2ой степени все метрики сильно растут\n",
    "\n",
    "polyreg_2 = fit_polyreg(degree=2)"
   ]
  },
  {
   "cell_type": "code",
   "execution_count": 39,
   "metadata": {
    "cell_id": "8a33c37ab7fc4ac396f366bf648e9bce",
    "deepnote_cell_height": 81,
    "deepnote_cell_type": "code",
    "deepnote_to_be_reexecuted": false,
    "execution_millis": 26213,
    "execution_start": 1647933466231,
    "source_hash": "6be75e40",
    "tags": []
   },
   "outputs": [
    {
     "name": "stdout",
     "output_type": "stream",
     "text": [
      "========\n",
      "MSE: 0.1512\n",
      "RMSE: 0.3889\n",
      "MAE: 0.3135\n",
      "R**2 score: 0.8805\n",
      "========\n"
     ]
    }
   ],
   "source": [
    "# При использовании полиномиальной регрессии 3ой степени все метрики еще сильнее растут\n",
    "\n",
    "polyreg_3 = fit_polyreg(degree=3)"
   ]
  },
  {
   "cell_type": "code",
   "execution_count": 40,
   "metadata": {},
   "outputs": [
    {
     "name": "stdout",
     "output_type": "stream",
     "text": [
      "========\n",
      "MSE: 0.5564\n",
      "RMSE: 0.7459\n",
      "MAE: 0.5983\n",
      "R**2 score: 0.5603\n",
      "========\n",
      "Ridge alpha=1\n",
      "\n"
     ]
    },
    {
     "data": {
      "text/html": [
       "<div>\n",
       "<style scoped>\n",
       "    .dataframe tbody tr th:only-of-type {\n",
       "        vertical-align: middle;\n",
       "    }\n",
       "\n",
       "    .dataframe tbody tr th {\n",
       "        vertical-align: top;\n",
       "    }\n",
       "\n",
       "    .dataframe thead th {\n",
       "        text-align: right;\n",
       "    }\n",
       "</style>\n",
       "<table border=\"1\" class=\"dataframe\">\n",
       "  <thead>\n",
       "    <tr style=\"text-align: right;\">\n",
       "      <th></th>\n",
       "      <th>columns</th>\n",
       "      <th>coefs</th>\n",
       "    </tr>\n",
       "  </thead>\n",
       "  <tbody>\n",
       "    <tr>\n",
       "      <th>0</th>\n",
       "      <td>MWG</td>\n",
       "      <td>0.562398</td>\n",
       "    </tr>\n",
       "    <tr>\n",
       "      <th>1</th>\n",
       "      <td>NWG</td>\n",
       "      <td>0.443717</td>\n",
       "    </tr>\n",
       "    <tr>\n",
       "      <th>2</th>\n",
       "      <td>KWG</td>\n",
       "      <td>0.093082</td>\n",
       "    </tr>\n",
       "    <tr>\n",
       "      <th>5</th>\n",
       "      <td>MDIMA</td>\n",
       "      <td>-0.000133</td>\n",
       "    </tr>\n",
       "    <tr>\n",
       "      <th>6</th>\n",
       "      <td>NDIMB</td>\n",
       "      <td>-0.000664</td>\n",
       "    </tr>\n",
       "    <tr>\n",
       "      <th>11</th>\n",
       "      <td>STRN</td>\n",
       "      <td>-0.008963</td>\n",
       "    </tr>\n",
       "    <tr>\n",
       "      <th>7</th>\n",
       "      <td>KWI</td>\n",
       "      <td>-0.015212</td>\n",
       "    </tr>\n",
       "    <tr>\n",
       "      <th>8</th>\n",
       "      <td>VWM</td>\n",
       "      <td>-0.016827</td>\n",
       "    </tr>\n",
       "    <tr>\n",
       "      <th>13</th>\n",
       "      <td>SB</td>\n",
       "      <td>-0.027260</td>\n",
       "    </tr>\n",
       "    <tr>\n",
       "      <th>9</th>\n",
       "      <td>VWN</td>\n",
       "      <td>-0.045845</td>\n",
       "    </tr>\n",
       "    <tr>\n",
       "      <th>10</th>\n",
       "      <td>STRM</td>\n",
       "      <td>-0.065192</td>\n",
       "    </tr>\n",
       "    <tr>\n",
       "      <th>12</th>\n",
       "      <td>SA</td>\n",
       "      <td>-0.098664</td>\n",
       "    </tr>\n",
       "    <tr>\n",
       "      <th>4</th>\n",
       "      <td>NDIMC</td>\n",
       "      <td>-0.426807</td>\n",
       "    </tr>\n",
       "    <tr>\n",
       "      <th>3</th>\n",
       "      <td>MDIMC</td>\n",
       "      <td>-0.443284</td>\n",
       "    </tr>\n",
       "  </tbody>\n",
       "</table>\n",
       "</div>"
      ],
      "text/plain": [
       "   columns     coefs\n",
       "0      MWG  0.562398\n",
       "1      NWG  0.443717\n",
       "2      KWG  0.093082\n",
       "5    MDIMA -0.000133\n",
       "6    NDIMB -0.000664\n",
       "11    STRN -0.008963\n",
       "7      KWI -0.015212\n",
       "8      VWM -0.016827\n",
       "13      SB -0.027260\n",
       "9      VWN -0.045845\n",
       "10    STRM -0.065192\n",
       "12      SA -0.098664\n",
       "4    NDIMC -0.426807\n",
       "3    MDIMC -0.443284"
      ]
     },
     "execution_count": 40,
     "metadata": {},
     "output_type": "execute_result"
    }
   ],
   "source": [
    "# При использовании Ridge со стандартной alpha=1 коэффициенты признаков и качество не изменяются\n",
    "\n",
    "ridge = Ridge().fit(X_train, y_train)\n",
    "metrify(ridge, y_val, ridge.predict(X_val))\n",
    "print(\"Ridge\", f\"alpha=1\\n\")\n",
    "pd.DataFrame({\"columns\": X_train.columns, \"coefs\": ridge.coef_}).sort_values(by=\"coefs\", ascending=False)"
   ]
  },
  {
   "cell_type": "code",
   "execution_count": 41,
   "metadata": {
    "cell_id": "46b09987ecfc4321b9a86cda57d5604f",
    "deepnote_cell_height": 543.296875,
    "deepnote_cell_type": "code",
    "deepnote_to_be_reexecuted": false,
    "execution_millis": 51,
    "execution_start": 1647894368782,
    "source_hash": "60eba919",
    "tags": []
   },
   "outputs": [
    {
     "name": "stdout",
     "output_type": "stream",
     "text": [
      "========\n",
      "MSE: 1.2656\n",
      "RMSE: 1.125\n",
      "MAE: 0.9564\n",
      "R**2 score: -0.0001\n",
      "========\n",
      "Lasso alpha=1\n",
      "\n"
     ]
    },
    {
     "data": {
      "text/html": [
       "<div>\n",
       "<style scoped>\n",
       "    .dataframe tbody tr th:only-of-type {\n",
       "        vertical-align: middle;\n",
       "    }\n",
       "\n",
       "    .dataframe tbody tr th {\n",
       "        vertical-align: top;\n",
       "    }\n",
       "\n",
       "    .dataframe thead th {\n",
       "        text-align: right;\n",
       "    }\n",
       "</style>\n",
       "<table border=\"1\" class=\"dataframe\">\n",
       "  <thead>\n",
       "    <tr style=\"text-align: right;\">\n",
       "      <th></th>\n",
       "      <th>columns</th>\n",
       "      <th>coefs</th>\n",
       "    </tr>\n",
       "  </thead>\n",
       "  <tbody>\n",
       "    <tr>\n",
       "      <th>0</th>\n",
       "      <td>MWG</td>\n",
       "      <td>0.0</td>\n",
       "    </tr>\n",
       "    <tr>\n",
       "      <th>1</th>\n",
       "      <td>NWG</td>\n",
       "      <td>0.0</td>\n",
       "    </tr>\n",
       "    <tr>\n",
       "      <th>2</th>\n",
       "      <td>KWG</td>\n",
       "      <td>-0.0</td>\n",
       "    </tr>\n",
       "    <tr>\n",
       "      <th>3</th>\n",
       "      <td>MDIMC</td>\n",
       "      <td>-0.0</td>\n",
       "    </tr>\n",
       "    <tr>\n",
       "      <th>4</th>\n",
       "      <td>NDIMC</td>\n",
       "      <td>-0.0</td>\n",
       "    </tr>\n",
       "    <tr>\n",
       "      <th>5</th>\n",
       "      <td>MDIMA</td>\n",
       "      <td>-0.0</td>\n",
       "    </tr>\n",
       "    <tr>\n",
       "      <th>6</th>\n",
       "      <td>NDIMB</td>\n",
       "      <td>-0.0</td>\n",
       "    </tr>\n",
       "    <tr>\n",
       "      <th>7</th>\n",
       "      <td>KWI</td>\n",
       "      <td>-0.0</td>\n",
       "    </tr>\n",
       "    <tr>\n",
       "      <th>8</th>\n",
       "      <td>VWM</td>\n",
       "      <td>0.0</td>\n",
       "    </tr>\n",
       "    <tr>\n",
       "      <th>9</th>\n",
       "      <td>VWN</td>\n",
       "      <td>0.0</td>\n",
       "    </tr>\n",
       "    <tr>\n",
       "      <th>10</th>\n",
       "      <td>STRM</td>\n",
       "      <td>-0.0</td>\n",
       "    </tr>\n",
       "    <tr>\n",
       "      <th>11</th>\n",
       "      <td>STRN</td>\n",
       "      <td>-0.0</td>\n",
       "    </tr>\n",
       "    <tr>\n",
       "      <th>12</th>\n",
       "      <td>SA</td>\n",
       "      <td>-0.0</td>\n",
       "    </tr>\n",
       "    <tr>\n",
       "      <th>13</th>\n",
       "      <td>SB</td>\n",
       "      <td>-0.0</td>\n",
       "    </tr>\n",
       "  </tbody>\n",
       "</table>\n",
       "</div>"
      ],
      "text/plain": [
       "   columns  coefs\n",
       "0      MWG    0.0\n",
       "1      NWG    0.0\n",
       "2      KWG   -0.0\n",
       "3    MDIMC   -0.0\n",
       "4    NDIMC   -0.0\n",
       "5    MDIMA   -0.0\n",
       "6    NDIMB   -0.0\n",
       "7      KWI   -0.0\n",
       "8      VWM    0.0\n",
       "9      VWN    0.0\n",
       "10    STRM   -0.0\n",
       "11    STRN   -0.0\n",
       "12      SA   -0.0\n",
       "13      SB   -0.0"
      ]
     },
     "execution_count": 41,
     "metadata": {},
     "output_type": "execute_result"
    }
   ],
   "source": [
    "# При использовании Lasso со стандартной alpha=1 все коэффициенты признаков зануляются, а качество при этом падает очень сильно падает\n",
    "\n",
    "lasso = Lasso().fit(X_train, y_train)\n",
    "metrify(lasso, y_val, lasso.predict(X_val))\n",
    "print(\"Lasso\", f\"alpha=1\\n\")\n",
    "pd.DataFrame({\"columns\": X_train.columns, \"coefs\": lasso.coef_}).sort_values(by=\"coefs\", ascending=False)"
   ]
  },
  {
   "cell_type": "code",
   "execution_count": 42,
   "metadata": {},
   "outputs": [
    {
     "name": "stdout",
     "output_type": "stream",
     "text": [
      "========\n",
      "MSE: 0.5565\n",
      "RMSE: 0.746\n",
      "MAE: 0.5986\n",
      "R**2 score: 0.5602\n",
      "========\n",
      "Lasso alpha=0.001\n",
      "\n"
     ]
    },
    {
     "data": {
      "text/html": [
       "<div>\n",
       "<style scoped>\n",
       "    .dataframe tbody tr th:only-of-type {\n",
       "        vertical-align: middle;\n",
       "    }\n",
       "\n",
       "    .dataframe tbody tr th {\n",
       "        vertical-align: top;\n",
       "    }\n",
       "\n",
       "    .dataframe thead th {\n",
       "        text-align: right;\n",
       "    }\n",
       "</style>\n",
       "<table border=\"1\" class=\"dataframe\">\n",
       "  <thead>\n",
       "    <tr style=\"text-align: right;\">\n",
       "      <th></th>\n",
       "      <th>columns</th>\n",
       "      <th>coefs</th>\n",
       "    </tr>\n",
       "  </thead>\n",
       "  <tbody>\n",
       "    <tr>\n",
       "      <th>0</th>\n",
       "      <td>MWG</td>\n",
       "      <td>0.560503</td>\n",
       "    </tr>\n",
       "    <tr>\n",
       "      <th>1</th>\n",
       "      <td>NWG</td>\n",
       "      <td>0.441704</td>\n",
       "    </tr>\n",
       "    <tr>\n",
       "      <th>2</th>\n",
       "      <td>KWG</td>\n",
       "      <td>0.091608</td>\n",
       "    </tr>\n",
       "    <tr>\n",
       "      <th>5</th>\n",
       "      <td>MDIMA</td>\n",
       "      <td>-0.000000</td>\n",
       "    </tr>\n",
       "    <tr>\n",
       "      <th>6</th>\n",
       "      <td>NDIMB</td>\n",
       "      <td>-0.000000</td>\n",
       "    </tr>\n",
       "    <tr>\n",
       "      <th>11</th>\n",
       "      <td>STRN</td>\n",
       "      <td>-0.007964</td>\n",
       "    </tr>\n",
       "    <tr>\n",
       "      <th>7</th>\n",
       "      <td>KWI</td>\n",
       "      <td>-0.014215</td>\n",
       "    </tr>\n",
       "    <tr>\n",
       "      <th>8</th>\n",
       "      <td>VWM</td>\n",
       "      <td>-0.014900</td>\n",
       "    </tr>\n",
       "    <tr>\n",
       "      <th>13</th>\n",
       "      <td>SB</td>\n",
       "      <td>-0.026271</td>\n",
       "    </tr>\n",
       "    <tr>\n",
       "      <th>9</th>\n",
       "      <td>VWN</td>\n",
       "      <td>-0.043775</td>\n",
       "    </tr>\n",
       "    <tr>\n",
       "      <th>10</th>\n",
       "      <td>STRM</td>\n",
       "      <td>-0.064192</td>\n",
       "    </tr>\n",
       "    <tr>\n",
       "      <th>12</th>\n",
       "      <td>SA</td>\n",
       "      <td>-0.097674</td>\n",
       "    </tr>\n",
       "    <tr>\n",
       "      <th>4</th>\n",
       "      <td>NDIMC</td>\n",
       "      <td>-0.424862</td>\n",
       "    </tr>\n",
       "    <tr>\n",
       "      <th>3</th>\n",
       "      <td>MDIMC</td>\n",
       "      <td>-0.441310</td>\n",
       "    </tr>\n",
       "  </tbody>\n",
       "</table>\n",
       "</div>"
      ],
      "text/plain": [
       "   columns     coefs\n",
       "0      MWG  0.560503\n",
       "1      NWG  0.441704\n",
       "2      KWG  0.091608\n",
       "5    MDIMA -0.000000\n",
       "6    NDIMB -0.000000\n",
       "11    STRN -0.007964\n",
       "7      KWI -0.014215\n",
       "8      VWM -0.014900\n",
       "13      SB -0.026271\n",
       "9      VWN -0.043775\n",
       "10    STRM -0.064192\n",
       "12      SA -0.097674\n",
       "4    NDIMC -0.424862\n",
       "3    MDIMC -0.441310"
      ]
     },
     "execution_count": 42,
     "metadata": {},
     "output_type": "execute_result"
    }
   ],
   "source": [
    "# При использовании Lasso с alpha=0.001 коэффициенты признаков [MDIMA, NDIMB] зануляются, а качество при этом не падает\n",
    "\n",
    "lasso = Lasso(alpha=0.001).fit(X_train, y_train)\n",
    "metrify(lasso, y_val, lasso.predict(X_val))\n",
    "print(\"Lasso\", f\"alpha=0.001\\n\")\n",
    "\n",
    "pd.DataFrame({\"columns\": X_train.columns, \"coefs\": lasso.coef_}).sort_values(by=\"coefs\", ascending=False)"
   ]
  },
  {
   "cell_type": "code",
   "execution_count": 43,
   "metadata": {
    "cell_id": "508655b8403948d29a55495931665c71",
    "deepnote_cell_height": 543.296875,
    "deepnote_cell_type": "code",
    "deepnote_to_be_reexecuted": false,
    "execution_millis": 60,
    "execution_start": 1647894389275,
    "source_hash": "e11a0712",
    "tags": []
   },
   "outputs": [
    {
     "name": "stdout",
     "output_type": "stream",
     "text": [
      "========\n",
      "MSE: 0.5574\n",
      "RMSE: 0.7466\n",
      "MAE: 0.6005\n",
      "R**2 score: 0.5595\n",
      "========\n"
     ]
    },
    {
     "data": {
      "text/html": [
       "<div>\n",
       "<style scoped>\n",
       "    .dataframe tbody tr th:only-of-type {\n",
       "        vertical-align: middle;\n",
       "    }\n",
       "\n",
       "    .dataframe tbody tr th {\n",
       "        vertical-align: top;\n",
       "    }\n",
       "\n",
       "    .dataframe thead th {\n",
       "        text-align: right;\n",
       "    }\n",
       "</style>\n",
       "<table border=\"1\" class=\"dataframe\">\n",
       "  <thead>\n",
       "    <tr style=\"text-align: right;\">\n",
       "      <th></th>\n",
       "      <th>columns</th>\n",
       "      <th>coefs</th>\n",
       "    </tr>\n",
       "  </thead>\n",
       "  <tbody>\n",
       "    <tr>\n",
       "      <th>0</th>\n",
       "      <td>MWG</td>\n",
       "      <td>0.549316</td>\n",
       "    </tr>\n",
       "    <tr>\n",
       "      <th>1</th>\n",
       "      <td>NWG</td>\n",
       "      <td>0.431162</td>\n",
       "    </tr>\n",
       "    <tr>\n",
       "      <th>2</th>\n",
       "      <td>KWG</td>\n",
       "      <td>0.084031</td>\n",
       "    </tr>\n",
       "    <tr>\n",
       "      <th>5</th>\n",
       "      <td>MDIMA</td>\n",
       "      <td>0.000000</td>\n",
       "    </tr>\n",
       "    <tr>\n",
       "      <th>6</th>\n",
       "      <td>NDIMB</td>\n",
       "      <td>-0.000000</td>\n",
       "    </tr>\n",
       "    <tr>\n",
       "      <th>11</th>\n",
       "      <td>STRN</td>\n",
       "      <td>-0.003947</td>\n",
       "    </tr>\n",
       "    <tr>\n",
       "      <th>8</th>\n",
       "      <td>VWM</td>\n",
       "      <td>-0.005576</td>\n",
       "    </tr>\n",
       "    <tr>\n",
       "      <th>7</th>\n",
       "      <td>KWI</td>\n",
       "      <td>-0.010199</td>\n",
       "    </tr>\n",
       "    <tr>\n",
       "      <th>13</th>\n",
       "      <td>SB</td>\n",
       "      <td>-0.022237</td>\n",
       "    </tr>\n",
       "    <tr>\n",
       "      <th>9</th>\n",
       "      <td>VWN</td>\n",
       "      <td>-0.034505</td>\n",
       "    </tr>\n",
       "    <tr>\n",
       "      <th>10</th>\n",
       "      <td>STRM</td>\n",
       "      <td>-0.059888</td>\n",
       "    </tr>\n",
       "    <tr>\n",
       "      <th>12</th>\n",
       "      <td>SA</td>\n",
       "      <td>-0.093279</td>\n",
       "    </tr>\n",
       "    <tr>\n",
       "      <th>4</th>\n",
       "      <td>NDIMC</td>\n",
       "      <td>-0.412958</td>\n",
       "    </tr>\n",
       "    <tr>\n",
       "      <th>3</th>\n",
       "      <td>MDIMC</td>\n",
       "      <td>-0.429227</td>\n",
       "    </tr>\n",
       "  </tbody>\n",
       "</table>\n",
       "</div>"
      ],
      "text/plain": [
       "   columns     coefs\n",
       "0      MWG  0.549316\n",
       "1      NWG  0.431162\n",
       "2      KWG  0.084031\n",
       "5    MDIMA  0.000000\n",
       "6    NDIMB -0.000000\n",
       "11    STRN -0.003947\n",
       "8      VWM -0.005576\n",
       "7      KWI -0.010199\n",
       "13      SB -0.022237\n",
       "9      VWN -0.034505\n",
       "10    STRM -0.059888\n",
       "12      SA -0.093279\n",
       "4    NDIMC -0.412958\n",
       "3    MDIMC -0.429227"
      ]
     },
     "execution_count": 43,
     "metadata": {},
     "output_type": "execute_result"
    }
   ],
   "source": [
    "# При использовании ElasticNet с подобранной alpha=0.01 коэффициенты признаков [MDIMA, NDIMB] зануляются, а качество при этом падает всего на тысячные\n",
    "\n",
    "elastic_net = ElasticNet(alpha=0.01).fit(X_train, y_train)\n",
    "metrify(elastic_net, y_val, elastic_net.predict(X_val))\n",
    "pd.DataFrame({\"columns\": X_train.columns, \"coefs\": elastic_net.coef_}).sort_values(by=\"coefs\", ascending=False)"
   ]
  },
  {
   "cell_type": "markdown",
   "metadata": {
    "cell_id": "f4da469e30fb4096b29ce2b7ed74b3ed",
    "deepnote_cell_height": 54,
    "deepnote_cell_type": "markdown",
    "tags": []
   },
   "source": [
    "#### Подбор параметров"
   ]
  },
  {
   "cell_type": "code",
   "execution_count": 44,
   "metadata": {
    "cell_id": "6d372311b35a4b9fb85c21545422b9ea",
    "deepnote_cell_height": 953,
    "deepnote_cell_type": "code",
    "deepnote_to_be_reexecuted": false,
    "execution_millis": 689263,
    "execution_start": 1647894989334,
    "source_hash": "81a503f3",
    "tags": []
   },
   "outputs": [
    {
     "name": "stdout",
     "output_type": "stream",
     "text": [
      "Fitting 3 folds for each of 2 candidates, totalling 6 fits\n",
      "Fitting 3 folds for each of 8 candidates, totalling 24 fits\n",
      "CPU times: user 1h 17min 27s, sys: 37min, total: 1h 54min 28s\n",
      "Wall time: 15min 21s\n"
     ]
    }
   ],
   "source": [
    "%%time\n",
    "estimators = [make_polyreg(model=LinearRegression), make_polyreg(model=Lasso)]\n",
    "best_estimators = []\n",
    "\n",
    "\n",
    "params = [\n",
    "    {\"polynomialfeatures__degree\": (2, 3)},\n",
    "    {\"polynomialfeatures__degree\": (2, 3), \"lasso__alpha\": [0.001, 0.01, 0.1, 0.5]}\n",
    "]\n",
    "\n",
    "scores = [\"neg_mean_squared_error\", \"neg_root_mean_squared_error\", \"neg_median_absolute_error\", \"r2\"]\n",
    "\n",
    "for i, estimator in enumerate(estimators):\n",
    "    grid = GridSearchCV(estimator, param_grid=params[i], verbose=1, refit=\"r2\", cv=3).fit(X_train, y_train)\n",
    "    best_estimators.append(grid.best_estimator_)"
   ]
  },
  {
   "cell_type": "code",
   "execution_count": 52,
   "metadata": {
    "cell_id": "7bd70b5b36064b6dba8be6e9a5e95f44",
    "deepnote_cell_height": 755,
    "deepnote_cell_type": "code",
    "deepnote_to_be_reexecuted": false,
    "execution_millis": 101,
    "execution_start": 1647895918886,
    "source_hash": "ded2a9b9",
    "tags": []
   },
   "outputs": [
    {
     "name": "stdout",
     "output_type": "stream",
     "text": [
      "Pipeline(steps=[('polynomialfeatures', PolynomialFeatures()),\n",
      "                ('linearregression', LinearRegression())])\n",
      "========\n",
      "MSE: 0.1541\n",
      "RMSE: 0.3926\n",
      "MAE: 0.3144\n",
      "R**2 score: 0.8763\n",
      "========\n",
      "\n",
      "Pipeline(steps=[('polynomialfeatures', PolynomialFeatures()),\n",
      "                ('lasso', Lasso())])\n",
      "========\n",
      "MSE: 0.1554\n",
      "RMSE: 0.3942\n",
      "MAE: 0.3158\n",
      "R**2 score: 0.8753\n",
      "========\n",
      "\n"
     ]
    }
   ],
   "source": [
    "# Наконец, на основе всех проведенных экспериментов можно сделать следующие выводы:\n",
    "# 1. Признаки MDIMA и NDIMB являются далеко не самыми важными, потому что зануляются даже при умеренной регуляризации\n",
    "# 2. Обычной линейной регрессии недостаточно, чтобы моделировать и апроксимировать зависимости в этих данных\n",
    "# 3. Полиномиальная регрессия 2 и 3 степеней (остальные не тестировал) справляется с этим значительно лучше\n",
    "# 4. Таким образом, можно говорить о том, что в данных достаточно много нелинейных зависимостей\n",
    "# 5. Ну и, конечно, можно говорить о том, что кросс-валидировать полиномиальную регрессию долго, нейронки хоть в A100 можно обернуть, чтобы раз-раз и готово :)\n",
    "\n",
    "for i, estim in enumerate(best_estimators):\n",
    "    print(estimators[i])\n",
    "    metrify(estim, y_test, estim.predict(X_test))\n",
    "    print()"
   ]
  },
  {
   "cell_type": "code",
   "execution_count": 57,
   "metadata": {},
   "outputs": [
    {
     "data": {
      "text/plain": [
       "{'copy_X': True,\n",
       " 'fit_intercept': True,\n",
       " 'n_jobs': None,\n",
       " 'normalize': 'deprecated',\n",
       " 'positive': False}"
      ]
     },
     "execution_count": 57,
     "metadata": {},
     "output_type": "execute_result"
    }
   ],
   "source": [
    "best_estimators[0][1].get_params()"
   ]
  },
  {
   "cell_type": "code",
   "execution_count": 58,
   "metadata": {},
   "outputs": [
    {
     "data": {
      "text/plain": [
       "{'alpha': 0.001,\n",
       " 'copy_X': True,\n",
       " 'fit_intercept': True,\n",
       " 'max_iter': 1000,\n",
       " 'normalize': 'deprecated',\n",
       " 'positive': False,\n",
       " 'precompute': False,\n",
       " 'random_state': None,\n",
       " 'selection': 'cyclic',\n",
       " 'tol': 0.0001,\n",
       " 'warm_start': False}"
      ]
     },
     "execution_count": 58,
     "metadata": {},
     "output_type": "execute_result"
    }
   ],
   "source": [
    "best_estimators[1][1].get_params()"
   ]
  },
  {
   "cell_type": "code",
   "execution_count": null,
   "metadata": {},
   "outputs": [],
   "source": []
  }
 ],
 "metadata": {
  "deepnote": {
   "is_reactive": false
  },
  "deepnote_execution_queue": [],
  "deepnote_notebook_id": "8d4e3294-3695-429f-9605-4378202844d2",
  "kernelspec": {
   "display_name": "Python 3 (ipykernel)",
   "language": "python",
   "name": "python3"
  },
  "language_info": {
   "codemirror_mode": {
    "name": "ipython",
    "version": 3
   },
   "file_extension": ".py",
   "mimetype": "text/x-python",
   "name": "python",
   "nbconvert_exporter": "python",
   "pygments_lexer": "ipython3",
   "version": "3.9.7"
  }
 },
 "nbformat": 4,
 "nbformat_minor": 4
}
